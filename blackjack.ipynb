{
  "nbformat": 4,
  "nbformat_minor": 0,
  "metadata": {
    "kernelspec": {
      "display_name": "Python 3",
      "language": "python",
      "name": "python3"
    },
    "language_info": {
      "codemirror_mode": {
        "name": "ipython",
        "version": 3
      },
      "file_extension": ".py",
      "mimetype": "text/x-python",
      "name": "python",
      "nbconvert_exporter": "python",
      "pygments_lexer": "ipython3",
      "version": "3.7.3"
    },
    "colab": {
      "name": "BJ.ipynb",
      "provenance": [],
      "toc_visible": true,
      "include_colab_link": true
    }
  },
  "cells": [
    {
      "cell_type": "markdown",
      "metadata": {
        "id": "view-in-github",
        "colab_type": "text"
      },
      "source": [
        "<a href=\"https://colab.research.google.com/github/CristianMihalceanu/BlackJack/blob/main/blackjack.ipynb\" target=\"_parent\"><img src=\"https://colab.research.google.com/assets/colab-badge.svg\" alt=\"Open In Colab\"/></a>"
      ]
    },
    {
      "cell_type": "code",
      "metadata": {
        "id": "GK1Ht50N2Gbq"
      },
      "source": [
        "import random\n",
        "\n",
        "suits = ('Hearts', 'Diamonds', 'Spades', 'Clubs')\n",
        "ranks = ('Two', 'Three', 'Four', 'Five', 'Six', 'Seven', 'Eight', 'Nine', 'Ten', 'Jack', 'Queen', 'King', 'Ace')\n",
        "values = {'Two':2, 'Three':3, 'Four':4, 'Five':5, 'Six':6, 'Seven':7, 'Eight':8, 'Nine':9, 'Ten':10, 'Jack':10, \n",
        "          'Queen':10, 'King':10, 'Ace':11}\n",
        "\n",
        "playing= True"
      ],
      "execution_count": null,
      "outputs": []
    },
    {
      "cell_type": "code",
      "metadata": {
        "id": "x6VIlQpf2Gbu"
      },
      "source": [
        "class Card:\n",
        "    def __init__(self, suit, rank):\n",
        "        self.suit=suit\n",
        "        self.rank=rank\n",
        "        \n",
        "    def __str__(self):\n",
        "        return f\"{self.rank} of {self.suit}\""
      ],
      "execution_count": null,
      "outputs": []
    },
    {
      "cell_type": "code",
      "metadata": {
        "id": "qpHtCcpV2Gbv"
      },
      "source": [
        "class Deck:\n",
        "    \n",
        "    def __init__(self):\n",
        "        \n",
        "        self.deck=[] # practic declaram un parametru de tip lista al clasei Deck\n",
        "        for x in ranks:\n",
        "            for y in suits:\n",
        "                card=Card(y, x)\n",
        "                self.deck.append(card)\n",
        "    \n",
        "    def __str__(self):\n",
        "        for c in self.deck:\n",
        "            print(c)\n",
        "            \n",
        "    def shuffle(self):\n",
        "        random.shuffle(self.deck)\n",
        "        \n",
        "    def deal(self):\n",
        "        return self.deck.pop()\n",
        "              "
      ],
      "execution_count": null,
      "outputs": []
    },
    {
      "cell_type": "code",
      "metadata": {
        "id": "p7m89bnw2Gbx"
      },
      "source": [
        "class Hand:\n",
        "    \n",
        "    def __init__(self):\n",
        "        self.cards=[]\n",
        "        self.value=0\n",
        "        self.aces=0\n",
        "        \n",
        "    def __str__(self):\n",
        "        return self.cards\n",
        "        \n",
        "    def addcard(self, card):\n",
        "        self.cards.append(card)\n",
        "        if card.rank == 'Ace':\n",
        "            self.aces = self.aces + 1\n",
        "        self.value = self.value + values[card.rank] #preluam valoarea din dictionar\n",
        "        \n",
        "    def adjust_for_ace(self):\n",
        "        while self.value>21 and self.aces!=0:\n",
        "            self.value=self.value-10 # Asul devine 1 din 11\n",
        "            self.aces=self.aces-1"
      ],
      "execution_count": null,
      "outputs": []
    },
    {
      "cell_type": "code",
      "metadata": {
        "id": "jsJ0DRna2Gby"
      },
      "source": [
        "class Chips:\n",
        "    \n",
        "    def __init__(self):\n",
        "        self.total=100\n",
        "        self.bet=0\n",
        "    \n",
        "    def win_bet(self):\n",
        "        self.total+=self.bet\n",
        "        \n",
        "    def lose_bet(self):\n",
        "        self.total-=self.bet"
      ],
      "execution_count": null,
      "outputs": []
    },
    {
      "cell_type": "code",
      "metadata": {
        "id": "bgmn2-Op2Gbz"
      },
      "source": [
        "def take_bet(chips): #parametrul care va fi transmis in functie va fi de tipul chips cu proprietatile respective\n",
        "    \n",
        "    while True:\n",
        "        try:\n",
        "            chips.bet=int(input('Please place a bet'))\n",
        "        except:\n",
        "            print(\"Impossible to place that bet!\")\n",
        "        else:\n",
        "            if chips.bet>chips.total:\n",
        "                print(\"Impossible to place that bet!\")\n",
        "            else:\n",
        "                break\n",
        "        "
      ],
      "execution_count": null,
      "outputs": []
    },
    {
      "cell_type": "code",
      "metadata": {
        "id": "BKDdju5P2Gb0"
      },
      "source": [
        "def hit(deck,hand):\n",
        "    \n",
        "    a=deck.deal()\n",
        "    hand.addcard(a)\n",
        "    hand.adjust_for_ace()"
      ],
      "execution_count": null,
      "outputs": []
    },
    {
      "cell_type": "code",
      "metadata": {
        "id": "oB3B7Zhm2Gb0"
      },
      "source": [
        "def hit_or_stand(deck,hand,hand2):\n",
        "\n",
        "    global playing\n",
        "    \n",
        "    while playing:\n",
        "        answer=input('Write <<hit>> to hit, write <<stand>> to stand')\n",
        "        if answer=='hit':\n",
        "            hit(deck,hand)\n",
        "            show_some(hand,hand2)\n",
        "        elif answer=='stand':\n",
        "            playing=False\n",
        "        else:\n",
        "            print('Impossible to acknowlegde that answer!')\n",
        "            continue #avanseaza in loop fara sa faci vreo actiune\n",
        "    "
      ],
      "execution_count": null,
      "outputs": []
    },
    {
      "cell_type": "code",
      "metadata": {
        "id": "Bf4c5CVu2Gb2"
      },
      "source": [
        "def show_some(player,CPU):\n",
        "#parametrii sunt de tip Hand\n",
        "    \n",
        "    print(\"Players cards: \")\n",
        "    for c in player.cards:\n",
        "        print(c)\n",
        "    print('\\n CPUs cards: ')\n",
        "    print(CPU.cards[1]) #chiar daca mai trage carti, procesul va fi automat, player ul nu le vede, asa ca nu afisam tot"
      ],
      "execution_count": null,
      "outputs": []
    },
    {
      "cell_type": "code",
      "metadata": {
        "id": "9lcfHTLe2Gb3"
      },
      "source": [
        "def show_all(player, CPU):\n",
        "    \n",
        "    print(\"Players cards: \")\n",
        "    for c in player.cards:\n",
        "        print(c)\n",
        "    print('\\n CPUs cards: ')\n",
        "    for c in CPU.cards:\n",
        "        print(c)\n",
        "    "
      ],
      "execution_count": null,
      "outputs": []
    },
    {
      "cell_type": "code",
      "metadata": {
        "id": "Z2mMqiAe2Gb4"
      },
      "source": [
        "def push(player,CPU):\n",
        "    print(\"It is a tie!\")\n",
        "    \n",
        "def player_busts(player,CPU,chips):\n",
        "    print('Player lost!')\n",
        "    chips.lose_bet()\n",
        "    \n",
        "def player_wins(player,CPU,chips):\n",
        "    print('Player won!')\n",
        "    chips.win_bet()\n",
        "    \n",
        "def CPU_busts(player,CPU,chips):\n",
        "    print('CPU lost!')\n",
        "    chips.win_bet()\n",
        "    \n",
        "def CPU_wins(player,CPU,chips):\n",
        "    print('CPU won!')\n",
        "    chips.lose_bet()"
      ],
      "execution_count": null,
      "outputs": []
    },
    {
      "cell_type": "code",
      "metadata": {
        "id": "gn1ESG7i2Gb5",
        "outputId": "6135223e-d9a6-43ee-e0dc-104fc8d9418f"
      },
      "source": [
        "while True:\n",
        "    print('Welcome to Cristi*s BLACKJACK\\n')\n",
        "    \n",
        "    player=Hand()\n",
        "    CPU=Hand()\n",
        "    d=Deck()\n",
        "    d.shuffle()\n",
        "    \n",
        "    a=d.deal()\n",
        "    player.addcard(a)\n",
        "    a=d.deal()\n",
        "    player.addcard(a)\n",
        "    a=d.deal()\n",
        "    CPU.addcard(a)\n",
        "    a=d.deal()\n",
        "    CPU.addcard(a)\n",
        "    \n",
        "    chips=Chips() #aici sau in functie am fi putut transmite chips.total de la finalul\n",
        "#unei runde ca in cazul in care castigi sa poti paria mai mult\n",
        "    take_bet(chips)\n",
        "    \n",
        "    show_some(player,CPU)\n",
        "    \n",
        "    playing=True\n",
        "    \n",
        "    while playing:\n",
        "        hit_or_stand(d,player,CPU) #chiar daca treci de 21 tot te lasa sa tragi\n",
        "        show_some(player,CPU)\n",
        "        if player.value>21:\n",
        "            player_busts(player,CPU,chips)\n",
        "            break\n",
        "        while CPU.value<17:\n",
        "            hit(d,CPU)\n",
        "        show_all(player,CPU)\n",
        "        if CPU.value>21:\n",
        "            CPU_busts(player,CPU,chips)\n",
        "            break\n",
        "        if CPU.value>player.value:\n",
        "            CPU_wins(player,CPU,chips)\n",
        "            break\n",
        "        elif CPU.value<player.value:\n",
        "            player_wins(player,CPU,chips)\n",
        "            break\n",
        "        else:\n",
        "            push(player,CPU)\n",
        "            break\n",
        "    \n",
        "    print(chips.total)\n",
        "    \n",
        "    r=int(input('Do you wish to play another round? ( answer 1 or 0 )' ))\n",
        "    if r==1:\n",
        "        playing=True\n",
        "    else:\n",
        "        playing=False"
      ],
      "execution_count": null,
      "outputs": [
        {
          "name": "stdout",
          "output_type": "stream",
          "text": [
            "Welcome to Cristi*s BLACKJACK\n",
            "\n",
            "Please place a bet20\n",
            "Players cards: \n",
            "King of Spades\n",
            "Four of Diamonds\n",
            "\n",
            " CPUs cards: \n",
            "Six of Clubs\n",
            "Write <<hit>> to hit, write <<stand>> to standstand\n",
            "Players cards: \n",
            "King of Spades\n",
            "Four of Diamonds\n",
            "\n",
            " CPUs cards: \n",
            "Six of Clubs\n",
            "Players cards: \n",
            "King of Spades\n",
            "Four of Diamonds\n",
            "\n",
            " CPUs cards: \n",
            "Ten of Diamonds\n",
            "Six of Clubs\n",
            "Nine of Diamonds\n",
            "CPU lost!\n",
            "120\n",
            "Do you wish to play another round? ( answer 1 or 0 )30\n",
            "Welcome to Cristi*s BLACKJACK\n",
            "\n",
            "Please place a bet300\n",
            "Impossible to place that bet!\n",
            "Please place a bet30\n",
            "Players cards: \n",
            "Five of Diamonds\n",
            "King of Hearts\n",
            "\n",
            " CPUs cards: \n",
            "Jack of Clubs\n",
            "Write <<hit>> to hit, write <<stand>> to standhit\n",
            "Players cards: \n",
            "Five of Diamonds\n",
            "King of Hearts\n",
            "Queen of Diamonds\n",
            "\n",
            " CPUs cards: \n",
            "Jack of Clubs\n",
            "Write <<hit>> to hit, write <<stand>> to standstand\n",
            "Players cards: \n",
            "Five of Diamonds\n",
            "King of Hearts\n",
            "Queen of Diamonds\n",
            "\n",
            " CPUs cards: \n",
            "Jack of Clubs\n",
            "Player lost!\n",
            "70\n"
          ]
        }
      ]
    },
    {
      "cell_type": "code",
      "metadata": {
        "id": "Q6nHMQxV2Gb6"
      },
      "source": [
        "#facut intr o singura zi, pe 5.04.2020, in carantina"
      ],
      "execution_count": null,
      "outputs": []
    }
  ]
}